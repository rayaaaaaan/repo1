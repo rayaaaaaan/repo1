{
 "cells": [
  {
   "cell_type": "code",
   "execution_count": 6,
   "id": "f4b77ed2-56cd-4a12-a5ae-c35bf5a90b60",
   "metadata": {},
   "outputs": [
    {
     "name": "stdout",
     "output_type": "stream",
     "text": [
      "Series is\n",
      " 0     3.45\n",
      "1     6.78\n",
      "2     2.89\n",
      "3    67.30\n",
      "4    23.65\n",
      "dtype: float64\n",
      "Values in the series is [ 3.45  6.78  2.89 67.3  23.65]\n",
      "Index in the series is RangeIndex(start=0, stop=5, step=1)\n"
     ]
    }
   ],
   "source": [
    "import numpy as np\n",
    "import pandas as pd\n",
    "S=pd.Series([3.45,6.78,2.89,67.3,23.65])\n",
    "print(\"Series is\\n\",S)\n",
    "print(\"Values in the series is\",S.values)\n",
    "print(\"Index in the series is\",S.index)"
   ]
  },
  {
   "cell_type": "code",
   "execution_count": 12,
   "id": "d5ffa9a0-71b1-4ca3-b006-cb997839e7e2",
   "metadata": {},
   "outputs": [
    {
     "name": "stdout",
     "output_type": "stream",
     "text": [
      "Series is\n",
      " a     3.45\n",
      "b     6.78\n",
      "c     2.89\n",
      "d    67.30\n",
      "e    23.65\n",
      "dtype: float64\n",
      "Values in the series is [ 3.45  6.78  2.89 67.3  23.65]\n",
      "Index in the series is Index(['a', 'b', 'c', 'd', 'e'], dtype='object')\n",
      "Value at index c: 6.78\n"
     ]
    }
   ],
   "source": [
    "S=pd.Series([3.45,6.78,2.89,67.3,23.65],index=['a','b','c','d','e'])\n",
    "print(\"Series is\\n\",S)\n",
    "print(\"Values in the series is\",S.values)\n",
    "print(\"Index in the series is\",S.index)\n",
    "print(\"Value at index c:\",S['b'])"
   ]
  },
  {
   "cell_type": "code",
   "execution_count": 13,
   "id": "70636eea-2330-4088-8aaa-9ab735e44fda",
   "metadata": {},
   "outputs": [
    {
     "name": "stdout",
     "output_type": "stream",
     "text": [
      "Series is\n",
      " Leo        97\n",
      "Goat       93\n",
      "Master    100\n",
      "Beast      91\n",
      "dtype: int64\n",
      "Value in the series is [ 97  93 100  91]\n",
      "Index of the series is Index(['Leo', 'Goat', 'Master', 'Beast'], dtype='object')\n",
      "Information of two students:\n",
      " Leo     97\n",
      "Goat    93\n",
      "dtype: int64\n"
     ]
    }
   ],
   "source": [
    "info={'Leo':97,'Goat':93,'Master':100,'Beast':91}\n",
    "stud=pd.Series(info)\n",
    "print(\"Series is\\n\",stud)\n",
    "print(\"Value in the series is\",stud.values)\n",
    "print(\"Index of the series is\",stud.index)\n",
    "print(\"Information of two students:\\n\",stud['Leo':'Goat'])"
   ]
  },
  {
   "cell_type": "code",
   "execution_count": 14,
   "id": "75224670-b277-410c-a6c6-30948953310a",
   "metadata": {},
   "outputs": [
    {
     "name": "stdout",
     "output_type": "stream",
     "text": [
      "Series is:\n",
      " Leo        97\n",
      "Master    100\n",
      "dtype: int64\n"
     ]
    }
   ],
   "source": [
    "stud1=pd.Series(info,index=['Leo','Master'])\n",
    "print(\"Series is:\\n\",stud1)"
   ]
  },
  {
   "cell_type": "code",
   "execution_count": 20,
   "id": "a8d18277-ab2e-4d21-b89a-b7c538ffda32",
   "metadata": {},
   "outputs": [
    {
     "name": "stdout",
     "output_type": "stream",
     "text": [
      "DataFrame:/n Leo        97\n",
      "Goat       93\n",
      "Master    100\n",
      "Beast      91\n",
      "dtype: int64\n"
     ]
    }
   ],
   "source": [
    "stud=pd.Series(info)\n",
    "stud1=pd.DataFrame(stud1,columns=['Marks'])\n",
    "print(\"DataFrame:/n\",stud)"
   ]
  },
  {
   "cell_type": "code",
   "execution_count": 16,
   "id": "95ed31a5-5a19-49dd-8f6f-c6c0aa49bb7e",
   "metadata": {},
   "outputs": [
    {
     "data": {
      "text/plain": [
       "Leo        97\n",
       "Goat       93\n",
       "Master    100\n",
       "Beast      91\n",
       "dtype: int64"
      ]
     },
     "execution_count": 16,
     "metadata": {},
     "output_type": "execute_result"
    }
   ],
   "source": [
    "stud"
   ]
  },
  {
   "cell_type": "code",
   "execution_count": 24,
   "id": "dea0ac1f-bbfa-425f-8678-c4eb2e518ee2",
   "metadata": {},
   "outputs": [
    {
     "name": "stdout",
     "output_type": "stream",
     "text": [
      "DataFrame:/n         Name Gender  Age\n",
      "0      Dhoni      M   43\n",
      "1      Jaddu      M   38\n",
      "2       Rutu      M   31\n",
      "3       Dube      M   35\n",
      "4  Pathirana      M   21\n",
      "Values;/n [['Dhoni' 'M' 43]\n",
      " ['Jaddu' 'M' 38]\n",
      " ['Rutu' 'M' 31]\n",
      " ['Dube' 'M' 35]\n",
      " ['Pathirana' 'M' 21]]\n"
     ]
    }
   ],
   "source": [
    "T=pd.DataFrame({'Name':['Dhoni','Jaddu','Rutu','Dube','Pathirana'],\n",
    "               'Gender':['M','M','M','M','M'],\n",
    "               'Age':[43,38,31,35,21]})\n",
    "print(\"DataFrame:/n\",T)\n",
    "print(\"Values;/n\",T.values)"
   ]
  },
  {
   "cell_type": "code",
   "execution_count": null,
   "id": "bd37226c-c6b9-4276-badc-7783114bf812",
   "metadata": {},
   "outputs": [],
   "source": [
    "mark={'A':58,'B':68,'C':78,'D':88}\n",
    "smark=pd.Series(mark)\n",
    "print(\"Series is:/n\",smark)\n",
    "age={}"
   ]
  },
  {
   "cell_type": "code",
   "execution_count": 13,
   "id": "ccf9ec17-f325-4094-9e36-b0967000fa51",
   "metadata": {},
   "outputs": [
    {
     "name": "stdout",
     "output_type": "stream",
     "text": [
      "Index([1, 2, 3, 4, 5], dtype='int64')\n",
      "(5,) \n",
      " 5 \n",
      " 1 \n",
      " int64\n"
     ]
    }
   ],
   "source": [
    "import pandas  as pd \n",
    "i=pd.Index([1,2,3,4,5])\n",
    "print(i)\n",
    "print(i.shape,\"\\n\",i.size,\"\\n\",i.ndim,\"\\n\",i.dtype)"
   ]
  },
  {
   "cell_type": "code",
   "execution_count": 16,
   "id": "b81f427f-2375-49e9-aec8-75dfb7699200",
   "metadata": {},
   "outputs": [
    {
     "name": "stdout",
     "output_type": "stream",
     "text": [
      "4\n",
      "Index([3], dtype='int64')\n"
     ]
    }
   ],
   "source": [
    "print(i[3])\n",
    "print(i[2:3])"
   ]
  },
  {
   "cell_type": "code",
   "execution_count": 10,
   "id": "148d8756-ed15-42e6-b4f3-27e99c78dbbf",
   "metadata": {},
   "outputs": [
    {
     "name": "stdout",
     "output_type": "stream",
     "text": [
      "Index([1, 2, 3, 4, 5, 7, 8, 9, 10], dtype='int64')\n",
      "Index([5], dtype='int64')\n",
      "Index([1, 2, 3, 4], dtype='int64')\n",
      "Index([7, 8, 9, 10], dtype='int64')\n"
     ]
    }
   ],
   "source": [
    "import pandas as pd\n",
    "i1=pd.Index([1,2,3,4,5])\n",
    "i2=pd.Index([5,7,8,9,10])\n",
    "print(i1.union(i2))\n",
    "print(i1.intersection(i2))\n",
    "print(i1.difference(i2))\n",
    "print(i2.difference(i1))"
   ]
  },
  {
   "cell_type": "code",
   "execution_count": 1,
   "id": "b9314765-0dea-40e2-be44-22a13bb91424",
   "metadata": {},
   "outputs": [
    {
     "name": "stdout",
     "output_type": "stream",
     "text": [
      "Series:\n",
      " R1    20\n",
      "R2    26\n",
      "R3    45\n",
      "R4    37\n",
      "R5    14\n",
      "R6    20\n",
      "R7    20\n",
      "dtype: int32\n"
     ]
    }
   ],
   "source": [
    "import numpy as np\n",
    "import pandas as pd\n",
    "R=np.random.randint(10,50,7)\n",
    "S=pd.Series(R,index=['R1','R2','R3','R4','R5','R6','R7'])\n",
    "print(\"Series:\\n\",S)"
   ]
  },
  {
   "cell_type": "code",
   "execution_count": 10,
   "id": "27004802-14bf-4de7-8ce3-105beac9dfcb",
   "metadata": {},
   "outputs": [
    {
     "name": "stdout",
     "output_type": "stream",
     "text": [
      "Slicing using exlicit index:\n",
      " R2    26\n",
      "R3    45\n",
      "R4    37\n",
      "dtype: int32\n",
      "Slicing using implicit index:\n",
      " R2    26\n",
      "R3    45\n",
      "R4    37\n",
      "dtype: int32\n",
      "Fancy index:\n",
      " R1    20\n",
      "R3    45\n",
      "R4    37\n",
      "dtype: int32\n",
      "Masking:\n",
      " R2    26\n",
      "dtype: int32\n"
     ]
    },
    {
     "name": "stderr",
     "output_type": "stream",
     "text": [
      "C:\\Users\\mech&student\\AppData\\Local\\Temp\\ipykernel_2300\\829081933.py:3: FutureWarning: Series.__getitem__ treating keys as positions is deprecated. In a future version, integer keys will always be treated as labels (consistent with DataFrame behavior). To access a value by position, use `ser.iloc[pos]`\n",
      "  print('Fancy index:\\n',S[[0,2,3]])\n"
     ]
    }
   ],
   "source": [
    "print('Slicing using exlicit index:\\n',S['R2':'R4'])\n",
    "print('Slicing using implicit index:\\n',S[1:4])\n",
    "print('Fancy index:\\n',S[[0,2,3]])\n",
    "print('Masking:\\n',S[(S>20) &(S<30)])"
   ]
  },
  {
   "cell_type": "code",
   "execution_count": 11,
   "id": "aeb46f01-a5fb-48fa-8bee-9be8b7852ea8",
   "metadata": {},
   "outputs": [
    {
     "name": "stdout",
     "output_type": "stream",
     "text": [
      "loc index:\n",
      " R2    26\n",
      "R3    45\n",
      "R4    37\n",
      "dtype: int32\n",
      "loc index:\n",
      " Series([], dtype: int32)\n"
     ]
    }
   ],
   "source": [
    "print('loc index:\\n',S.loc['R2':'R4'])\n",
    "print('loc index:\\n',S.iloc[-1:-4])"
   ]
  },
  {
   "cell_type": "code",
   "execution_count": 16,
   "id": "2a211f01-e975-4d25-8c0b-b61feed7b204",
   "metadata": {},
   "outputs": [
    {
     "name": "stdout",
     "output_type": "stream",
     "text": [
      "Series:\n",
      " AM     100\n",
      "DH      99\n",
      "SH      95\n",
      "SHR     84\n",
      "LAK     70\n",
      "dtype: int64\n",
      "Series:\n",
      " AM     90\n",
      "DH     40\n",
      "SH     50\n",
      "SHR    64\n",
      "LAK    54\n",
      "dtype: int64\n",
      "DataFrame:/n      Sub1  Sub2\n",
      "AM    100    90\n",
      "DH     99    40\n",
      "SH     95    50\n",
      "SHR    84    64\n",
      "LAK    70    54\n"
     ]
    }
   ],
   "source": [
    "Lakshan=pd.Series({'AM':100,'DH':99,'SH':95,'SHR':84,'LAK':70})\n",
    "print('Series:\\n',Lakshan)\n",
    "Lingesh=pd.Series({'AM':90,'DH':40,'SH':50,'SHR':64,'LAK':54})\n",
    "print('Series:\\n',Lingesh)\n",
    "D=pd.DataFrame({'Sub1':Lakshan,'Sub2':Lingesh})\n",
    "print('DataFrame:/n',D)"
   ]
  },
  {
   "cell_type": "code",
   "execution_count": null,
   "id": "bdfc803c-cae3-43e5-b7c1-f37079eb88f7",
   "metadata": {},
   "outputs": [],
   "source": [
    "print('Dictorinary:\\n',S.loc['R2':'R4']"
   ]
  }
 ],
 "metadata": {
  "kernelspec": {
   "display_name": "Python 3 (ipykernel)",
   "language": "python",
   "name": "python3"
  },
  "language_info": {
   "codemirror_mode": {
    "name": "ipython",
    "version": 3
   },
   "file_extension": ".py",
   "mimetype": "text/x-python",
   "name": "python",
   "nbconvert_exporter": "python",
   "pygments_lexer": "ipython3",
   "version": "3.12.7"
  }
 },
 "nbformat": 4,
 "nbformat_minor": 5
}
